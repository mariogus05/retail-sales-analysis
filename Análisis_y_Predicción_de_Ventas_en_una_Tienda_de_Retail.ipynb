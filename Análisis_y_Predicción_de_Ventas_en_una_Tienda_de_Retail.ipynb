{
  "nbformat": 4,
  "nbformat_minor": 0,
  "metadata": {
    "colab": {
      "provenance": []
    },
    "kernelspec": {
      "name": "python3",
      "display_name": "Python 3"
    },
    "language_info": {
      "name": "python"
    }
  },
  "cells": [
    {
      "cell_type": "code",
      "execution_count": 9,
      "metadata": {
        "colab": {
          "base_uri": "https://localhost:8080/"
        },
        "id": "XGCqZDTTYyiM",
        "outputId": "06786eec-f4ca-4c6e-91c9-3c34d815f221",
        "collapsed": true
      },
      "outputs": [
        {
          "output_type": "stream",
          "name": "stdout",
          "text": [
            "[[   1.   nan   nan ...    3.   50.  150.]\n",
            " [   2.   nan   nan ...    2.  500. 1000.]\n",
            " [   3.   nan   nan ...    1.   30.   30.]\n",
            " ...\n",
            " [ 998.   nan   nan ...    4.   25.  100.]\n",
            " [ 999.   nan   nan ...    3.   50.  150.]\n",
            " [1000.   nan   nan ...    4.   30.  120.]]\n"
          ]
        }
      ],
      "source": [
        "import numpy as np\n",
        "\n",
        "def cargar_datos(ruta_archivo):\n",
        "  datos = np.genfromtxt(ruta_archivo, delimiter=',', skip_header=1)\n",
        "  return datos\n",
        "\n",
        "if __name__ == \"__main__\":\n",
        "    ruta_archivo = '/content/drive/MyDrive/BOOTCAMP MITIC 2024/CIENCIA DE DATOS/data/retail_sales_dataset.csv'\n",
        "    datos = cargar_datos(ruta_archivo)\n",
        "    print(datos)\n"
      ]
    },
    {
      "cell_type": "code",
      "source": [
        "arr = datos[:, np.isfinite(datos).all(axis=0)]\n",
        "print(arr)"
      ],
      "metadata": {
        "colab": {
          "base_uri": "https://localhost:8080/"
        },
        "id": "OkYoS_yDlWFP",
        "outputId": "0453ba83-8c9e-426e-d251-2771c083f2bb"
      },
      "execution_count": 10,
      "outputs": [
        {
          "output_type": "stream",
          "name": "stdout",
          "text": [
            "[[   1.   34.    3.   50.  150.]\n",
            " [   2.   26.    2.  500. 1000.]\n",
            " [   3.   50.    1.   30.   30.]\n",
            " ...\n",
            " [ 998.   23.    4.   25.  100.]\n",
            " [ 999.   36.    3.   50.  150.]\n",
            " [1000.   47.    4.   30.  120.]]\n"
          ]
        }
      ]
    },
    {
      "cell_type": "code",
      "source": [
        "arr = datos[:, np.isfinite(datos).all(axis=0)]\n",
        "print(arr)"
      ],
      "metadata": {
        "colab": {
          "base_uri": "https://localhost:8080/"
        },
        "id": "ue8Vy6pdyTrx",
        "outputId": "b5ce654a-758e-47e7-8d71-5209462d1150"
      },
      "execution_count": 11,
      "outputs": [
        {
          "output_type": "stream",
          "name": "stdout",
          "text": [
            "[[   1.   34.    3.   50.  150.]\n",
            " [   2.   26.    2.  500. 1000.]\n",
            " [   3.   50.    1.   30.   30.]\n",
            " ...\n",
            " [ 998.   23.    4.   25.  100.]\n",
            " [ 999.   36.    3.   50.  150.]\n",
            " [1000.   47.    4.   30.  120.]]\n"
          ]
        }
      ]
    },
    {
      "cell_type": "code",
      "source": [
        "print(arr.size)"
      ],
      "metadata": {
        "colab": {
          "base_uri": "https://localhost:8080/"
        },
        "id": "qzpGcO8hyrrv",
        "outputId": "e97b4e1f-4c61-47f7-8ee6-af72a46de772"
      },
      "execution_count": 12,
      "outputs": [
        {
          "output_type": "stream",
          "name": "stdout",
          "text": [
            "5000\n"
          ]
        }
      ]
    }
  ]
}